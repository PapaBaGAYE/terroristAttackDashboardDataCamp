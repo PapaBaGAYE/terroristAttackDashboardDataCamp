{
 "cells": [
  {
   "cell_type": "code",
   "execution_count": 1,
   "metadata": {},
   "outputs": [],
   "source": [
    "import pandas as pd"
   ]
  },
  {
   "cell_type": "code",
   "execution_count": 2,
   "metadata": {},
   "outputs": [],
   "source": [
    "#terror_data = pd.read_csv(\"data/cleaned/terror.csv\", encoding = \"ISO-8859-1\")"
   ]
  },
  {
   "cell_type": "code",
   "execution_count": 3,
   "metadata": {},
   "outputs": [],
   "source": [
    "#terror_data.columns.to_list()"
   ]
  },
  {
   "cell_type": "markdown",
   "metadata": {},
   "source": [
    "## Identification variables pertinentes"
   ]
  },
  {
   "cell_type": "code",
   "execution_count": 4,
   "metadata": {},
   "outputs": [],
   "source": [
    "variables_pertinentes = ['iyear', 'iday', 'imonth', 'nkill', 'country_txt', 'nwound', 'region_txt', 'provstate',\n",
    "                         'city', 'nkillus', 'nwoundus', 'region_txt', 'latitude', 'longitude',\n",
    "                         'attacktype1_txt', 'alternative_txt', 'suicide', 'ransompaid', 'nhostkid', 'hostkidoutcome_txt'\n",
    "                         , 'ransomnote', 'nhours', 'ndays', 'ransompaidus', 'nhostkidus', 'summary', 'motive', 'gname'\n",
    "                         , 'natlty1_txt', 'kidhijcountry', 'weaptype1_txt', 'weapsubtype1_txt', 'weaptype2_txt', 'weapsubtype2_txt', 'weaptype3_txt', 'weapsubtype3_txt'\n",
    "                         , 'weaptype4_txt', 'weapsubtype4_txt', 'targtype1_txt', 'targsubtype1_txt', 'targtype2_txt', 'targsubtype2_txt', 'targtype3_txt', 'targsubtype3_txt'\n",
    "                         , 'claimmode_txt', 'propextent_txt', 'propextent', 'propvalue', 'dbsource'\n",
    "                         ]"
   ]
  },
  {
   "cell_type": "code",
   "execution_count": 5,
   "metadata": {},
   "outputs": [],
   "source": [
    "#new_data = terror_data[variables_pertinentes]"
   ]
  },
  {
   "cell_type": "code",
   "execution_count": 6,
   "metadata": {},
   "outputs": [],
   "source": [
    "#new_data.to_csv(\"data/cleaned/terror.csv\", index = False)"
   ]
  },
  {
   "cell_type": "code",
   "execution_count": 75,
   "metadata": {},
   "outputs": [],
   "source": [
    "new_data = pd.read_csv(\"data/cleaned/terror.csv\")"
   ]
  },
  {
   "cell_type": "code",
   "execution_count": 76,
   "metadata": {},
   "outputs": [
    {
     "data": {
      "text/plain": [
       "Index(['iyear', 'iday', 'imonth', 'nkill', 'country_txt', 'nwound',\n",
       "       'region_txt', 'provstate', 'city', 'nkillus', 'nwoundus',\n",
       "       'region_txt.1', 'latitude', 'longitude', 'attacktype1_txt',\n",
       "       'alternative_txt', 'suicide', 'ransompaid', 'nhostkid',\n",
       "       'hostkidoutcome_txt', 'ransomnote', 'nhours', 'ndays', 'ransompaidus',\n",
       "       'nhostkidus', 'summary', 'motive', 'gname', 'natlty1_txt',\n",
       "       'kidhijcountry', 'weaptype1_txt', 'weapsubtype1_txt', 'weaptype2_txt',\n",
       "       'weapsubtype2_txt', 'weaptype3_txt', 'weapsubtype3_txt',\n",
       "       'weaptype4_txt', 'weapsubtype4_txt', 'targtype1_txt',\n",
       "       'targsubtype1_txt', 'targtype2_txt', 'targsubtype2_txt',\n",
       "       'targtype3_txt', 'targsubtype3_txt', 'claimmode_txt', 'propextent_txt',\n",
       "       'propextent', 'propvalue', 'dbsource', 'date'],\n",
       "      dtype='object')"
      ]
     },
     "execution_count": 76,
     "metadata": {},
     "output_type": "execute_result"
    }
   ],
   "source": [
    "new_data.columns"
   ]
  },
  {
   "cell_type": "code",
   "execution_count": 77,
   "metadata": {},
   "outputs": [
    {
     "name": "stdout",
     "output_type": "stream",
     "text": [
      "<class 'pandas.core.frame.DataFrame'>\n",
      "RangeIndex: 180800 entries, 0 to 180799\n",
      "Data columns (total 50 columns):\n",
      " #   Column              Non-Null Count   Dtype  \n",
      "---  ------              --------------   -----  \n",
      " 0   iyear               180800 non-null  int64  \n",
      " 1   iday                180800 non-null  int64  \n",
      " 2   imonth              180800 non-null  int64  \n",
      " 3   nkill               180800 non-null  float64\n",
      " 4   country_txt         180800 non-null  object \n",
      " 5   nwound              180800 non-null  float64\n",
      " 6   region_txt          180800 non-null  object \n",
      " 7   provstate           180800 non-null  object \n",
      " 8   city                180800 non-null  object \n",
      " 9   nkillus             180800 non-null  float64\n",
      " 10  nwoundus            180800 non-null  float64\n",
      " 11  region_txt.1        180800 non-null  object \n",
      " 12  latitude            180800 non-null  float64\n",
      " 13  longitude           180800 non-null  float64\n",
      " 14  attacktype1_txt     180800 non-null  object \n",
      " 15  alternative_txt     180800 non-null  object \n",
      " 16  suicide             180800 non-null  int64  \n",
      " 17  ransompaid          180800 non-null  float64\n",
      " 18  nhostkid            180800 non-null  float64\n",
      " 19  hostkidoutcome_txt  180800 non-null  object \n",
      " 20  ransomnote          180800 non-null  object \n",
      " 21  nhours              180800 non-null  float64\n",
      " 22  ndays               180800 non-null  float64\n",
      " 23  ransompaidus        180800 non-null  float64\n",
      " 24  nhostkidus          180800 non-null  float64\n",
      " 25  summary             180800 non-null  object \n",
      " 26  motive              180800 non-null  object \n",
      " 27  gname               180800 non-null  object \n",
      " 28  natlty1_txt         180800 non-null  object \n",
      " 29  kidhijcountry       180800 non-null  object \n",
      " 30  weaptype1_txt       180800 non-null  object \n",
      " 31  weapsubtype1_txt    180800 non-null  object \n",
      " 32  weaptype2_txt       180800 non-null  object \n",
      " 33  weapsubtype2_txt    180800 non-null  object \n",
      " 34  weaptype3_txt       180800 non-null  object \n",
      " 35  weapsubtype3_txt    180800 non-null  object \n",
      " 36  weaptype4_txt       180800 non-null  object \n",
      " 37  weapsubtype4_txt    180800 non-null  object \n",
      " 38  targtype1_txt       180800 non-null  object \n",
      " 39  targsubtype1_txt    180800 non-null  object \n",
      " 40  targtype2_txt       180800 non-null  object \n",
      " 41  targsubtype2_txt    180800 non-null  object \n",
      " 42  targtype3_txt       180800 non-null  object \n",
      " 43  targsubtype3_txt    180800 non-null  object \n",
      " 44  claimmode_txt       180800 non-null  object \n",
      " 45  propextent_txt      180800 non-null  object \n",
      " 46  propextent          180800 non-null  float64\n",
      " 47  propvalue           180800 non-null  float64\n",
      " 48  dbsource            180800 non-null  object \n",
      " 49  date                180800 non-null  object \n",
      "dtypes: float64(14), int64(4), object(32)\n",
      "memory usage: 46.9+ MB\n"
     ]
    }
   ],
   "source": [
    "new_data.info(verbose=True)"
   ]
  },
  {
   "cell_type": "markdown",
   "metadata": {},
   "source": [
    "## Nombre de lignes et de colonnes"
   ]
  },
  {
   "cell_type": "code",
   "execution_count": 78,
   "metadata": {},
   "outputs": [
    {
     "data": {
      "text/plain": [
       "(180800, 50)"
      ]
     },
     "execution_count": 78,
     "metadata": {},
     "output_type": "execute_result"
    }
   ],
   "source": [
    "# nombre de colonnes et de lignes\n",
    "new_data.shape"
   ]
  },
  {
   "cell_type": "markdown",
   "metadata": {},
   "source": [
    "On a 49 variables et 181691 observations dans le jeu de données"
   ]
  },
  {
   "cell_type": "markdown",
   "metadata": {},
   "source": [
    "## Ajoutons une nouvelle colonne date qui va nous permettre de classer directement par date les observations"
   ]
  },
  {
   "cell_type": "code",
   "execution_count": 79,
   "metadata": {},
   "outputs": [
    {
     "data": {
      "text/plain": [
       "array([ 1,  2,  3,  6,  8,  9, 10, 11, 12, 13, 14, 15, 19, 20, 21, 22, 25,\n",
       "       26, 27, 28, 30, 31,  4,  7, 16, 17, 18, 23, 24,  5, 29],\n",
       "      dtype=int64)"
      ]
     },
     "execution_count": 79,
     "metadata": {},
     "output_type": "execute_result"
    }
   ],
   "source": [
    "# further we must see if the column iday, imonth and iyear can be concatenated\n",
    "new_data[\"iday\"].unique()"
   ]
  },
  {
   "cell_type": "code",
   "execution_count": 80,
   "metadata": {},
   "outputs": [
    {
     "data": {
      "text/plain": [
       "array([ 1,  2,  3,  4,  5,  6,  7,  8,  9, 10, 11, 12], dtype=int64)"
      ]
     },
     "execution_count": 80,
     "metadata": {},
     "output_type": "execute_result"
    }
   ],
   "source": [
    "new_data[\"imonth\"].unique()"
   ]
  },
  {
   "cell_type": "code",
   "execution_count": 81,
   "metadata": {},
   "outputs": [
    {
     "data": {
      "text/plain": [
       "array([1970, 1971, 1972, 1973, 1974, 1975, 1976, 1977, 1978, 1979, 1980,\n",
       "       1981, 1982, 1983, 1984, 1985, 1986, 1987, 1988, 1989, 1990, 1991,\n",
       "       1992, 1994, 1995, 1996, 1997, 1998, 1999, 2000, 2001, 2002, 2003,\n",
       "       2004, 2005, 2006, 2007, 2008, 2009, 2010, 2011, 2012, 2013, 2014,\n",
       "       2015, 2016, 2017], dtype=int64)"
      ]
     },
     "execution_count": 81,
     "metadata": {},
     "output_type": "execute_result"
    }
   ],
   "source": [
    "new_data[\"iyear\"].unique()"
   ]
  },
  {
   "cell_type": "code",
   "execution_count": 82,
   "metadata": {},
   "outputs": [
    {
     "data": {
      "text/plain": [
       "0"
      ]
     },
     "execution_count": 82,
     "metadata": {},
     "output_type": "execute_result"
    }
   ],
   "source": [
    "new_data[(new_data[\"iday\"] == 0)].index.__len__()"
   ]
  },
  {
   "cell_type": "code",
   "execution_count": 83,
   "metadata": {},
   "outputs": [
    {
     "data": {
      "text/plain": [
       "0"
      ]
     },
     "execution_count": 83,
     "metadata": {},
     "output_type": "execute_result"
    }
   ],
   "source": [
    "new_data[(new_data[\"imonth\"] == 0)].index.__len__()"
   ]
  },
  {
   "cell_type": "code",
   "execution_count": 84,
   "metadata": {},
   "outputs": [],
   "source": [
    "# Let's remove some lines by the indexes\n",
    "new_data.drop(index = new_data[(new_data[\"iday\"] == 0)].index, axis = 0, inplace = True)"
   ]
  },
  {
   "cell_type": "code",
   "execution_count": 85,
   "metadata": {},
   "outputs": [
    {
     "data": {
      "text/plain": [
       "array([ 1,  2,  3,  6,  8,  9, 10, 11, 12, 13, 14, 15, 19, 20, 21, 22, 25,\n",
       "       26, 27, 28, 30, 31,  4,  7, 16, 17, 18, 23, 24,  5, 29],\n",
       "      dtype=int64)"
      ]
     },
     "execution_count": 85,
     "metadata": {},
     "output_type": "execute_result"
    }
   ],
   "source": [
    "new_data[\"iday\"].unique()"
   ]
  },
  {
   "cell_type": "code",
   "execution_count": 86,
   "metadata": {},
   "outputs": [],
   "source": [
    "# create a new column named as date\n",
    "new_data['date'] = new_data[\"iyear\"].astype(\"str\") + \"-\" + new_data[\"imonth\"].astype(\"str\") + \"-\" + new_data[\"iday\"].astype(\"str\")"
   ]
  },
  {
   "cell_type": "code",
   "execution_count": 87,
   "metadata": {},
   "outputs": [
    {
     "data": {
      "text/plain": [
       "0           1970-1-1\n",
       "1           1970-1-1\n",
       "2           1970-1-2\n",
       "3           1970-1-2\n",
       "4           1970-1-2\n",
       "             ...    \n",
       "180795    2017-12-31\n",
       "180796    2017-12-31\n",
       "180797    2017-12-31\n",
       "180798    2017-12-31\n",
       "180799    2017-12-31\n",
       "Name: date, Length: 180800, dtype: object"
      ]
     },
     "execution_count": 87,
     "metadata": {},
     "output_type": "execute_result"
    }
   ],
   "source": [
    "new_data[\"date\"]"
   ]
  },
  {
   "cell_type": "code",
   "execution_count": 88,
   "metadata": {},
   "outputs": [],
   "source": [
    "# transformation de la colonne en format date_time\n",
    "new_data[\"date\"] = pd.to_datetime(new_data['date'])"
   ]
  },
  {
   "cell_type": "code",
   "execution_count": 89,
   "metadata": {},
   "outputs": [],
   "source": [
    "new_data.sort_values('date', inplace=True)"
   ]
  },
  {
   "cell_type": "code",
   "execution_count": 90,
   "metadata": {},
   "outputs": [
    {
     "data": {
      "text/plain": [
       "dtype('<M8[ns]')"
      ]
     },
     "execution_count": 90,
     "metadata": {},
     "output_type": "execute_result"
    }
   ],
   "source": [
    "new_data[\"date\"].dtype"
   ]
  },
  {
   "cell_type": "code",
   "execution_count": 91,
   "metadata": {},
   "outputs": [
    {
     "data": {
      "text/plain": [
       "0        1970-01-01\n",
       "1        1970-01-01\n",
       "2        1970-01-02\n",
       "3        1970-01-02\n",
       "4        1970-01-02\n",
       "            ...    \n",
       "180776   2017-12-31\n",
       "180775   2017-12-31\n",
       "180798   2017-12-31\n",
       "180786   2017-12-31\n",
       "180799   2017-12-31\n",
       "Name: date, Length: 180800, dtype: datetime64[ns]"
      ]
     },
     "execution_count": 91,
     "metadata": {},
     "output_type": "execute_result"
    }
   ],
   "source": [
    "new_data['date']"
   ]
  },
  {
   "cell_type": "markdown",
   "metadata": {},
   "source": [
    "## Traitement des valeurs manquantes"
   ]
  },
  {
   "cell_type": "code",
   "execution_count": 92,
   "metadata": {},
   "outputs": [
    {
     "data": {
      "text/plain": [
       "iyear                 0.0\n",
       "weapsubtype4_txt      0.0\n",
       "gname                 0.0\n",
       "natlty1_txt           0.0\n",
       "kidhijcountry         0.0\n",
       "weaptype1_txt         0.0\n",
       "weapsubtype1_txt      0.0\n",
       "weaptype2_txt         0.0\n",
       "weapsubtype2_txt      0.0\n",
       "weaptype3_txt         0.0\n",
       "weapsubtype3_txt      0.0\n",
       "weaptype4_txt         0.0\n",
       "targtype1_txt         0.0\n",
       "iday                  0.0\n",
       "targsubtype1_txt      0.0\n",
       "targtype2_txt         0.0\n",
       "targsubtype2_txt      0.0\n",
       "targtype3_txt         0.0\n",
       "targsubtype3_txt      0.0\n",
       "claimmode_txt         0.0\n",
       "propextent_txt        0.0\n",
       "propextent            0.0\n",
       "propvalue             0.0\n",
       "dbsource              0.0\n",
       "motive                0.0\n",
       "summary               0.0\n",
       "nhostkidus            0.0\n",
       "ransompaidus          0.0\n",
       "imonth                0.0\n",
       "nkill                 0.0\n",
       "country_txt           0.0\n",
       "nwound                0.0\n",
       "region_txt            0.0\n",
       "provstate             0.0\n",
       "city                  0.0\n",
       "nkillus               0.0\n",
       "nwoundus              0.0\n",
       "region_txt.1          0.0\n",
       "latitude              0.0\n",
       "longitude             0.0\n",
       "attacktype1_txt       0.0\n",
       "alternative_txt       0.0\n",
       "suicide               0.0\n",
       "ransompaid            0.0\n",
       "nhostkid              0.0\n",
       "hostkidoutcome_txt    0.0\n",
       "ransomnote            0.0\n",
       "nhours                0.0\n",
       "ndays                 0.0\n",
       "date                  0.0\n",
       "dtype: float64"
      ]
     },
     "execution_count": 92,
     "metadata": {},
     "output_type": "execute_result"
    }
   ],
   "source": [
    "missing_percentages = new_data.isna().sum().sort_values(ascending = False)/len(new_data)\n",
    "missing_percentages"
   ]
  },
  {
   "cell_type": "markdown",
   "metadata": {},
   "source": [
    "Remplacement des valeurs manquantes dans les variables quantitatives par 0."
   ]
  },
  {
   "cell_type": "code",
   "execution_count": 93,
   "metadata": {},
   "outputs": [],
   "source": [
    "quant = new_data.columns[~new_data.columns.isin(new_data.select_dtypes('object').columns.to_list())]"
   ]
  },
  {
   "cell_type": "code",
   "execution_count": 94,
   "metadata": {},
   "outputs": [],
   "source": [
    "new_data[quant] = new_data[quant].fillna(0)"
   ]
  },
  {
   "cell_type": "markdown",
   "metadata": {},
   "source": [
    "On constate que seules les variables qualitatives contiennent des valeurs manquantes. On remplacera par des guillemets."
   ]
  },
  {
   "cell_type": "code",
   "execution_count": 95,
   "metadata": {},
   "outputs": [],
   "source": [
    "qual = new_data.select_dtypes('object').columns"
   ]
  },
  {
   "cell_type": "code",
   "execution_count": 96,
   "metadata": {},
   "outputs": [],
   "source": [
    "new_data[qual] = new_data[qual].fillna(\"''\")                      "
   ]
  },
  {
   "cell_type": "code",
   "execution_count": 97,
   "metadata": {},
   "outputs": [
    {
     "data": {
      "text/plain": [
       "iyear                 0.0\n",
       "weapsubtype4_txt      0.0\n",
       "gname                 0.0\n",
       "natlty1_txt           0.0\n",
       "kidhijcountry         0.0\n",
       "weaptype1_txt         0.0\n",
       "weapsubtype1_txt      0.0\n",
       "weaptype2_txt         0.0\n",
       "weapsubtype2_txt      0.0\n",
       "weaptype3_txt         0.0\n",
       "weapsubtype3_txt      0.0\n",
       "weaptype4_txt         0.0\n",
       "targtype1_txt         0.0\n",
       "iday                  0.0\n",
       "targsubtype1_txt      0.0\n",
       "targtype2_txt         0.0\n",
       "targsubtype2_txt      0.0\n",
       "targtype3_txt         0.0\n",
       "targsubtype3_txt      0.0\n",
       "claimmode_txt         0.0\n",
       "propextent_txt        0.0\n",
       "propextent            0.0\n",
       "propvalue             0.0\n",
       "dbsource              0.0\n",
       "motive                0.0\n",
       "summary               0.0\n",
       "nhostkidus            0.0\n",
       "ransompaidus          0.0\n",
       "imonth                0.0\n",
       "nkill                 0.0\n",
       "country_txt           0.0\n",
       "nwound                0.0\n",
       "region_txt            0.0\n",
       "provstate             0.0\n",
       "city                  0.0\n",
       "nkillus               0.0\n",
       "nwoundus              0.0\n",
       "region_txt.1          0.0\n",
       "latitude              0.0\n",
       "longitude             0.0\n",
       "attacktype1_txt       0.0\n",
       "alternative_txt       0.0\n",
       "suicide               0.0\n",
       "ransompaid            0.0\n",
       "nhostkid              0.0\n",
       "hostkidoutcome_txt    0.0\n",
       "ransomnote            0.0\n",
       "nhours                0.0\n",
       "ndays                 0.0\n",
       "date                  0.0\n",
       "dtype: float64"
      ]
     },
     "execution_count": 97,
     "metadata": {},
     "output_type": "execute_result"
    }
   ],
   "source": [
    "missing_percentages = new_data.isna().sum().sort_values(ascending = False)/len(new_data)\n",
    "missing_percentages"
   ]
  },
  {
   "cell_type": "code",
   "execution_count": 98,
   "metadata": {},
   "outputs": [
    {
     "data": {
      "text/html": [
       "<div>\n",
       "<style scoped>\n",
       "    .dataframe tbody tr th:only-of-type {\n",
       "        vertical-align: middle;\n",
       "    }\n",
       "\n",
       "    .dataframe tbody tr th {\n",
       "        vertical-align: top;\n",
       "    }\n",
       "\n",
       "    .dataframe thead th {\n",
       "        text-align: right;\n",
       "    }\n",
       "</style>\n",
       "<table border=\"1\" class=\"dataframe\">\n",
       "  <thead>\n",
       "    <tr style=\"text-align: right;\">\n",
       "      <th></th>\n",
       "      <th>iyear</th>\n",
       "      <th>iday</th>\n",
       "      <th>imonth</th>\n",
       "      <th>nkill</th>\n",
       "      <th>country_txt</th>\n",
       "      <th>nwound</th>\n",
       "      <th>region_txt</th>\n",
       "      <th>provstate</th>\n",
       "      <th>city</th>\n",
       "      <th>nkillus</th>\n",
       "      <th>...</th>\n",
       "      <th>targtype2_txt</th>\n",
       "      <th>targsubtype2_txt</th>\n",
       "      <th>targtype3_txt</th>\n",
       "      <th>targsubtype3_txt</th>\n",
       "      <th>claimmode_txt</th>\n",
       "      <th>propextent_txt</th>\n",
       "      <th>propextent</th>\n",
       "      <th>propvalue</th>\n",
       "      <th>dbsource</th>\n",
       "      <th>date</th>\n",
       "    </tr>\n",
       "  </thead>\n",
       "  <tbody>\n",
       "    <tr>\n",
       "      <th>0</th>\n",
       "      <td>1970</td>\n",
       "      <td>1</td>\n",
       "      <td>1</td>\n",
       "      <td>0.0</td>\n",
       "      <td>United States</td>\n",
       "      <td>0.0</td>\n",
       "      <td>North America</td>\n",
       "      <td>Illinois</td>\n",
       "      <td>Cairo</td>\n",
       "      <td>0.0</td>\n",
       "      <td>...</td>\n",
       "      <td>''</td>\n",
       "      <td>''</td>\n",
       "      <td>''</td>\n",
       "      <td>''</td>\n",
       "      <td>''</td>\n",
       "      <td>Minor (likely &lt; $1 million)</td>\n",
       "      <td>3.0</td>\n",
       "      <td>0.0</td>\n",
       "      <td>Hewitt Project</td>\n",
       "      <td>1970-01-01</td>\n",
       "    </tr>\n",
       "    <tr>\n",
       "      <th>1</th>\n",
       "      <td>1970</td>\n",
       "      <td>1</td>\n",
       "      <td>1</td>\n",
       "      <td>0.0</td>\n",
       "      <td>United States</td>\n",
       "      <td>0.0</td>\n",
       "      <td>North America</td>\n",
       "      <td>Wisconsin</td>\n",
       "      <td>Baraboo</td>\n",
       "      <td>0.0</td>\n",
       "      <td>...</td>\n",
       "      <td>''</td>\n",
       "      <td>''</td>\n",
       "      <td>''</td>\n",
       "      <td>''</td>\n",
       "      <td>''</td>\n",
       "      <td>Minor (likely &lt; $1 million)</td>\n",
       "      <td>3.0</td>\n",
       "      <td>0.0</td>\n",
       "      <td>PGIS</td>\n",
       "      <td>1970-01-01</td>\n",
       "    </tr>\n",
       "    <tr>\n",
       "      <th>2</th>\n",
       "      <td>1970</td>\n",
       "      <td>2</td>\n",
       "      <td>1</td>\n",
       "      <td>0.0</td>\n",
       "      <td>Uruguay</td>\n",
       "      <td>0.0</td>\n",
       "      <td>South America</td>\n",
       "      <td>Montevideo</td>\n",
       "      <td>Montevideo</td>\n",
       "      <td>0.0</td>\n",
       "      <td>...</td>\n",
       "      <td>''</td>\n",
       "      <td>''</td>\n",
       "      <td>''</td>\n",
       "      <td>''</td>\n",
       "      <td>''</td>\n",
       "      <td>''</td>\n",
       "      <td>0.0</td>\n",
       "      <td>0.0</td>\n",
       "      <td>PGIS</td>\n",
       "      <td>1970-01-02</td>\n",
       "    </tr>\n",
       "    <tr>\n",
       "      <th>3</th>\n",
       "      <td>1970</td>\n",
       "      <td>2</td>\n",
       "      <td>1</td>\n",
       "      <td>0.0</td>\n",
       "      <td>United States</td>\n",
       "      <td>0.0</td>\n",
       "      <td>North America</td>\n",
       "      <td>California</td>\n",
       "      <td>Oakland</td>\n",
       "      <td>0.0</td>\n",
       "      <td>...</td>\n",
       "      <td>''</td>\n",
       "      <td>''</td>\n",
       "      <td>''</td>\n",
       "      <td>''</td>\n",
       "      <td>''</td>\n",
       "      <td>Minor (likely &lt; $1 million)</td>\n",
       "      <td>3.0</td>\n",
       "      <td>22500.0</td>\n",
       "      <td>Hewitt Project</td>\n",
       "      <td>1970-01-02</td>\n",
       "    </tr>\n",
       "    <tr>\n",
       "      <th>4</th>\n",
       "      <td>1970</td>\n",
       "      <td>2</td>\n",
       "      <td>1</td>\n",
       "      <td>0.0</td>\n",
       "      <td>United States</td>\n",
       "      <td>0.0</td>\n",
       "      <td>North America</td>\n",
       "      <td>Wisconsin</td>\n",
       "      <td>Madison</td>\n",
       "      <td>0.0</td>\n",
       "      <td>...</td>\n",
       "      <td>''</td>\n",
       "      <td>''</td>\n",
       "      <td>''</td>\n",
       "      <td>''</td>\n",
       "      <td>Letter</td>\n",
       "      <td>Minor (likely &lt; $1 million)</td>\n",
       "      <td>3.0</td>\n",
       "      <td>60000.0</td>\n",
       "      <td>Hewitt Project</td>\n",
       "      <td>1970-01-02</td>\n",
       "    </tr>\n",
       "  </tbody>\n",
       "</table>\n",
       "<p>5 rows × 50 columns</p>\n",
       "</div>"
      ],
      "text/plain": [
       "   iyear  iday  imonth  nkill    country_txt  nwound     region_txt  \\\n",
       "0   1970     1       1    0.0  United States     0.0  North America   \n",
       "1   1970     1       1    0.0  United States     0.0  North America   \n",
       "2   1970     2       1    0.0        Uruguay     0.0  South America   \n",
       "3   1970     2       1    0.0  United States     0.0  North America   \n",
       "4   1970     2       1    0.0  United States     0.0  North America   \n",
       "\n",
       "    provstate        city  nkillus  ...  targtype2_txt targsubtype2_txt  \\\n",
       "0    Illinois       Cairo      0.0  ...             ''               ''   \n",
       "1   Wisconsin     Baraboo      0.0  ...             ''               ''   \n",
       "2  Montevideo  Montevideo      0.0  ...             ''               ''   \n",
       "3  California     Oakland      0.0  ...             ''               ''   \n",
       "4   Wisconsin     Madison      0.0  ...             ''               ''   \n",
       "\n",
       "   targtype3_txt  targsubtype3_txt claimmode_txt               propextent_txt  \\\n",
       "0             ''                ''            ''  Minor (likely < $1 million)   \n",
       "1             ''                ''            ''  Minor (likely < $1 million)   \n",
       "2             ''                ''            ''                           ''   \n",
       "3             ''                ''            ''  Minor (likely < $1 million)   \n",
       "4             ''                ''        Letter  Minor (likely < $1 million)   \n",
       "\n",
       "   propextent  propvalue        dbsource       date  \n",
       "0         3.0        0.0  Hewitt Project 1970-01-01  \n",
       "1         3.0        0.0            PGIS 1970-01-01  \n",
       "2         0.0        0.0            PGIS 1970-01-02  \n",
       "3         3.0    22500.0  Hewitt Project 1970-01-02  \n",
       "4         3.0    60000.0  Hewitt Project 1970-01-02  \n",
       "\n",
       "[5 rows x 50 columns]"
      ]
     },
     "execution_count": 98,
     "metadata": {},
     "output_type": "execute_result"
    }
   ],
   "source": [
    "new_data.head()"
   ]
  },
  {
   "cell_type": "code",
   "execution_count": 99,
   "metadata": {},
   "outputs": [],
   "source": [
    "new_data.to_csv(\"data/cleaned/terror.csv\", index = False)"
   ]
  },
  {
   "cell_type": "markdown",
   "metadata": {},
   "source": [
    "## Vérification du dataset"
   ]
  },
  {
   "cell_type": "code",
   "execution_count": 61,
   "metadata": {},
   "outputs": [],
   "source": [
    "new_data = pd.read_csv(\"data/cleaned/terror.csv\")"
   ]
  },
  {
   "cell_type": "code",
   "execution_count": 62,
   "metadata": {},
   "outputs": [
    {
     "data": {
      "text/html": [
       "<div>\n",
       "<style scoped>\n",
       "    .dataframe tbody tr th:only-of-type {\n",
       "        vertical-align: middle;\n",
       "    }\n",
       "\n",
       "    .dataframe tbody tr th {\n",
       "        vertical-align: top;\n",
       "    }\n",
       "\n",
       "    .dataframe thead th {\n",
       "        text-align: right;\n",
       "    }\n",
       "</style>\n",
       "<table border=\"1\" class=\"dataframe\">\n",
       "  <thead>\n",
       "    <tr style=\"text-align: right;\">\n",
       "      <th></th>\n",
       "      <th>iyear</th>\n",
       "      <th>iday</th>\n",
       "      <th>imonth</th>\n",
       "      <th>nkill</th>\n",
       "      <th>country_txt</th>\n",
       "      <th>nwound</th>\n",
       "      <th>region_txt</th>\n",
       "      <th>provstate</th>\n",
       "      <th>city</th>\n",
       "      <th>nkillus</th>\n",
       "      <th>...</th>\n",
       "      <th>targsubtype1_txt</th>\n",
       "      <th>targtype2_txt</th>\n",
       "      <th>targsubtype2_txt</th>\n",
       "      <th>targtype3_txt</th>\n",
       "      <th>targsubtype3_txt</th>\n",
       "      <th>claimmode_txt</th>\n",
       "      <th>propextent_txt</th>\n",
       "      <th>propextent</th>\n",
       "      <th>propvalue</th>\n",
       "      <th>dbsource</th>\n",
       "    </tr>\n",
       "  </thead>\n",
       "  <tbody>\n",
       "    <tr>\n",
       "      <th>0</th>\n",
       "      <td>1970</td>\n",
       "      <td>2</td>\n",
       "      <td>7</td>\n",
       "      <td>1.0</td>\n",
       "      <td>Dominican Republic</td>\n",
       "      <td>0.0</td>\n",
       "      <td>Central America &amp; Caribbean</td>\n",
       "      <td>''</td>\n",
       "      <td>Santo Domingo</td>\n",
       "      <td>0.0</td>\n",
       "      <td>...</td>\n",
       "      <td>Named Civilian</td>\n",
       "      <td>''</td>\n",
       "      <td>''</td>\n",
       "      <td>''</td>\n",
       "      <td>''</td>\n",
       "      <td>''</td>\n",
       "      <td>''</td>\n",
       "      <td>0.0</td>\n",
       "      <td>0.0</td>\n",
       "      <td>PGIS</td>\n",
       "    </tr>\n",
       "    <tr>\n",
       "      <th>1</th>\n",
       "      <td>1970</td>\n",
       "      <td>0</td>\n",
       "      <td>0</td>\n",
       "      <td>0.0</td>\n",
       "      <td>Mexico</td>\n",
       "      <td>0.0</td>\n",
       "      <td>North America</td>\n",
       "      <td>Federal</td>\n",
       "      <td>Mexico city</td>\n",
       "      <td>0.0</td>\n",
       "      <td>...</td>\n",
       "      <td>Diplomatic Personnel (outside of embassy, cons...</td>\n",
       "      <td>''</td>\n",
       "      <td>''</td>\n",
       "      <td>''</td>\n",
       "      <td>''</td>\n",
       "      <td>''</td>\n",
       "      <td>''</td>\n",
       "      <td>0.0</td>\n",
       "      <td>0.0</td>\n",
       "      <td>PGIS</td>\n",
       "    </tr>\n",
       "    <tr>\n",
       "      <th>2</th>\n",
       "      <td>1970</td>\n",
       "      <td>0</td>\n",
       "      <td>1</td>\n",
       "      <td>1.0</td>\n",
       "      <td>Philippines</td>\n",
       "      <td>0.0</td>\n",
       "      <td>Southeast Asia</td>\n",
       "      <td>Tarlac</td>\n",
       "      <td>Unknown</td>\n",
       "      <td>0.0</td>\n",
       "      <td>...</td>\n",
       "      <td>Radio Journalist/Staff/Facility</td>\n",
       "      <td>''</td>\n",
       "      <td>''</td>\n",
       "      <td>''</td>\n",
       "      <td>''</td>\n",
       "      <td>''</td>\n",
       "      <td>''</td>\n",
       "      <td>0.0</td>\n",
       "      <td>0.0</td>\n",
       "      <td>PGIS</td>\n",
       "    </tr>\n",
       "    <tr>\n",
       "      <th>3</th>\n",
       "      <td>1970</td>\n",
       "      <td>0</td>\n",
       "      <td>1</td>\n",
       "      <td>0.0</td>\n",
       "      <td>Greece</td>\n",
       "      <td>0.0</td>\n",
       "      <td>Western Europe</td>\n",
       "      <td>Attica</td>\n",
       "      <td>Athens</td>\n",
       "      <td>0.0</td>\n",
       "      <td>...</td>\n",
       "      <td>Embassy/Consulate</td>\n",
       "      <td>''</td>\n",
       "      <td>''</td>\n",
       "      <td>''</td>\n",
       "      <td>''</td>\n",
       "      <td>''</td>\n",
       "      <td>''</td>\n",
       "      <td>0.0</td>\n",
       "      <td>0.0</td>\n",
       "      <td>PGIS</td>\n",
       "    </tr>\n",
       "    <tr>\n",
       "      <th>4</th>\n",
       "      <td>1970</td>\n",
       "      <td>0</td>\n",
       "      <td>1</td>\n",
       "      <td>0.0</td>\n",
       "      <td>Japan</td>\n",
       "      <td>0.0</td>\n",
       "      <td>East Asia</td>\n",
       "      <td>Fukouka</td>\n",
       "      <td>Fukouka</td>\n",
       "      <td>0.0</td>\n",
       "      <td>...</td>\n",
       "      <td>Embassy/Consulate</td>\n",
       "      <td>''</td>\n",
       "      <td>''</td>\n",
       "      <td>''</td>\n",
       "      <td>''</td>\n",
       "      <td>''</td>\n",
       "      <td>''</td>\n",
       "      <td>0.0</td>\n",
       "      <td>0.0</td>\n",
       "      <td>PGIS</td>\n",
       "    </tr>\n",
       "  </tbody>\n",
       "</table>\n",
       "<p>5 rows × 49 columns</p>\n",
       "</div>"
      ],
      "text/plain": [
       "   iyear  iday  imonth  nkill         country_txt  nwound  \\\n",
       "0   1970     2       7    1.0  Dominican Republic     0.0   \n",
       "1   1970     0       0    0.0              Mexico     0.0   \n",
       "2   1970     0       1    1.0         Philippines     0.0   \n",
       "3   1970     0       1    0.0              Greece     0.0   \n",
       "4   1970     0       1    0.0               Japan     0.0   \n",
       "\n",
       "                    region_txt provstate           city  nkillus  ...  \\\n",
       "0  Central America & Caribbean        ''  Santo Domingo      0.0  ...   \n",
       "1                North America   Federal    Mexico city      0.0  ...   \n",
       "2               Southeast Asia    Tarlac        Unknown      0.0  ...   \n",
       "3               Western Europe    Attica         Athens      0.0  ...   \n",
       "4                    East Asia   Fukouka        Fukouka      0.0  ...   \n",
       "\n",
       "                                    targsubtype1_txt targtype2_txt  \\\n",
       "0                                     Named Civilian            ''   \n",
       "1  Diplomatic Personnel (outside of embassy, cons...            ''   \n",
       "2                    Radio Journalist/Staff/Facility            ''   \n",
       "3                                  Embassy/Consulate            ''   \n",
       "4                                  Embassy/Consulate            ''   \n",
       "\n",
       "   targsubtype2_txt  targtype3_txt targsubtype3_txt claimmode_txt  \\\n",
       "0                ''             ''               ''            ''   \n",
       "1                ''             ''               ''            ''   \n",
       "2                ''             ''               ''            ''   \n",
       "3                ''             ''               ''            ''   \n",
       "4                ''             ''               ''            ''   \n",
       "\n",
       "   propextent_txt  propextent  propvalue dbsource  \n",
       "0              ''         0.0        0.0     PGIS  \n",
       "1              ''         0.0        0.0     PGIS  \n",
       "2              ''         0.0        0.0     PGIS  \n",
       "3              ''         0.0        0.0     PGIS  \n",
       "4              ''         0.0        0.0     PGIS  \n",
       "\n",
       "[5 rows x 49 columns]"
      ]
     },
     "execution_count": 62,
     "metadata": {},
     "output_type": "execute_result"
    }
   ],
   "source": [
    "new_data.head()"
   ]
  }
 ],
 "metadata": {
  "interpreter": {
   "hash": "d9cb4fe90d1e8890f1d760e5203fc044f921dddd2ce0dfa0f0205b983aed132e"
  },
  "kernelspec": {
   "display_name": "Python 3.9.0 32-bit",
   "language": "python",
   "name": "python3"
  },
  "language_info": {
   "codemirror_mode": {
    "name": "ipython",
    "version": 3
   },
   "file_extension": ".py",
   "mimetype": "text/x-python",
   "name": "python",
   "nbconvert_exporter": "python",
   "pygments_lexer": "ipython3",
   "version": "3.9.0"
  },
  "orig_nbformat": 4
 },
 "nbformat": 4,
 "nbformat_minor": 2
}
